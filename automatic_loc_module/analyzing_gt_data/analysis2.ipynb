{
 "cells": [
  {
   "cell_type": "code",
   "execution_count": 1,
   "metadata": {},
   "outputs": [],
   "source": [
    "import pandas as pd\n",
    "import numpy as np"
   ]
  },
  {
   "cell_type": "code",
   "execution_count": 5,
   "metadata": {},
   "outputs": [
    {
     "data": {
      "text/plain": [
       "(5521, 61)"
      ]
     },
     "execution_count": 5,
     "metadata": {},
     "output_type": "execute_result"
    }
   ],
   "source": [
    "df = pd.read_csv('total_correct.csv')\n",
    "df.shape"
   ]
  },
  {
   "cell_type": "code",
   "execution_count": 23,
   "metadata": {},
   "outputs": [
    {
     "ename": "SyntaxError",
     "evalue": "invalid syntax (24920980.py, line 14)",
     "output_type": "error",
     "traceback": [
      "\u001b[0;36m  Cell \u001b[0;32mIn[23], line 14\u001b[0;36m\u001b[0m\n\u001b[0;31m    if object_ != 'nan' and (object_ in obj or obj = ob) and len(obj) < best_len:\u001b[0m\n\u001b[0m                                                   ^\u001b[0m\n\u001b[0;31mSyntaxError\u001b[0m\u001b[0;31m:\u001b[0m invalid syntax\n"
     ]
    }
   ],
   "source": [
    "from scannet_classes import SCANNET_OBJECTS\n",
    "import string\n",
    "#Using apply function to get the class name\n",
    "\n",
    "for i in range(df.shape[0]):\n",
    "    #Get each object\n",
    "    for j in range(1,9):\n",
    "        feature = \"Answer.object\" + str(j)\n",
    "        new_feature = \"Answer.object\" + str(j) + \"_preprocessed\"\n",
    "        best_len = 10000\n",
    "        object_ = str(df.loc[i,feature]).lower()\n",
    "        object_ = object_.translate(str.maketrans('', '', string.punctuation))\n",
    "        for obj in SCANNET_OBJECTS:\n",
    "            if object_ != 'nan' and (object_ in obj or obj in object_) and len(obj) < best_len:\n",
    "                df.loc[i, new_feature] = obj\n",
    "                best_len = len(obj)\n",
    "        \n",
    "    "
   ]
  },
  {
   "cell_type": "code",
   "execution_count": 19,
   "metadata": {},
   "outputs": [
    {
     "data": {
      "text/plain": [
       "36000000"
      ]
     },
     "execution_count": 19,
     "metadata": {},
     "output_type": "execute_result"
    }
   ],
   "source": [
    "5000*9*800"
   ]
  },
  {
   "cell_type": "code",
   "execution_count": 22,
   "metadata": {},
   "outputs": [],
   "source": [
    "#add it in csv file\n",
    "df.to_csv('total_correct_preprocessed_objects.csv')"
   ]
  },
  {
   "cell_type": "code",
   "execution_count": null,
   "metadata": {},
   "outputs": [],
   "source": []
  }
 ],
 "metadata": {
  "kernelspec": {
   "display_name": "cot3d",
   "language": "python",
   "name": "python3"
  },
  "language_info": {
   "codemirror_mode": {
    "name": "ipython",
    "version": 3
   },
   "file_extension": ".py",
   "mimetype": "text/x-python",
   "name": "python",
   "nbconvert_exporter": "python",
   "pygments_lexer": "ipython3",
   "version": "3.10.10"
  },
  "orig_nbformat": 4
 },
 "nbformat": 4,
 "nbformat_minor": 2
}
