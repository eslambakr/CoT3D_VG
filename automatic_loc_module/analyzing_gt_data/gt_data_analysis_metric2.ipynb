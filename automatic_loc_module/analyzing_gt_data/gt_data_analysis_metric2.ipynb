{
 "cells": [
  {
   "cell_type": "code",
   "execution_count": 86,
   "metadata": {},
   "outputs": [],
   "source": [
    "import pandas as pd\n",
    "import numpy as np"
   ]
  },
  {
   "cell_type": "code",
   "execution_count": 87,
   "metadata": {},
   "outputs": [],
   "source": [
    "df = pd.read_csv(\"./Batch_5064543_batch_results_50.csv\")"
   ]
  },
  {
   "cell_type": "code",
   "execution_count": 88,
   "metadata": {},
   "outputs": [
    {
     "name": "stdout",
     "output_type": "stream",
     "text": [
      "Index(['HITId', 'HITTypeId', 'Title', 'Description', 'Keywords', 'Reward',\n",
      "       'CreationTime', 'MaxAssignments', 'RequesterAnnotation',\n",
      "       'AssignmentDurationInSeconds', 'AutoApprovalDelayInSeconds',\n",
      "       'Expiration', 'NumberOfSimilarHITs', 'LifetimeInSeconds',\n",
      "       'AssignmentId', 'WorkerId', 'AssignmentStatus', 'AcceptTime',\n",
      "       'SubmitTime', 'AutoApprovalTime', 'ApprovalTime', 'RejectionTime',\n",
      "       'RequesterFeedback', 'WorkTimeInSeconds', 'LifetimeApprovalRate',\n",
      "       'Last30DaysApprovalRate', 'Last7DaysApprovalRate', 'Input.id',\n",
      "       'Input.stimulus_id', 'Input.utterance', 'Input.correct_guess',\n",
      "       'Input.speaker_id', 'Input.listener_id', 'Input.scan_id',\n",
      "       'Input.instance_type', 'Input.target_id', 'Input.tokens',\n",
      "       'Input.dataset', 'Input.mentions_target_class',\n",
      "       'Input.uses_object_lang', 'Input.uses_spatial_lang',\n",
      "       'Input.uses_color_lang', 'Input.uses_shape_lang', 'Answer.object1',\n",
      "       'Answer.object2', 'Answer.object3', 'Answer.object4', 'Answer.object5',\n",
      "       'Answer.object6', 'Answer.object7', 'Answer.object8', 'Answer.order1',\n",
      "       'Answer.order2', 'Answer.order3', 'Answer.order4', 'Answer.order5',\n",
      "       'Answer.order6', 'Answer.order7', 'Answer.order8', 'Approve', 'Reject'],\n",
      "      dtype='object')\n"
     ]
    },
    {
     "data": {
      "text/plain": [
       "'\\nThe needed columns for querying: \\n    1. HITTId-> The unique ID for the sentence \\n    2. Input.utterance -> Sentence\\n    3. Input.Instance  -> Target\\n    4. ِ[Answer.object1, Answer.object8] -> Objects\\n    5. [Answer.order1, Answer.order8] -> Order\\n'"
      ]
     },
     "execution_count": 88,
     "metadata": {},
     "output_type": "execute_result"
    }
   ],
   "source": [
    "neded_cols = ['HITId', 'HITTypeId' 'Input.utterance']\n",
    "for i in range(0,9):\n",
    "    feature = 'Answer.object' + str(i)\n",
    "    neded_cols.append(feature)\n",
    "for i in range(0,9):\n",
    "    feature = 'Answer.order' + str(i)\n",
    "    neded_cols.append(feature)\n",
    "\n",
    "df_filtered = df.groupby('HITId')\n",
    "HITIds = [item for item, index in df_filtered.groups.items()]\n",
    "\n",
    "def check_submatches(lst, orders):\n",
    "    max_count = 0\n",
    "    longest_subset = []\n",
    "    for i in range(len(lst)):\n",
    "        count = 1\n",
    "        subset = []\n",
    "        for j in range(i+1, len(lst)):\n",
    "            if len(lst[i]) == len(lst[j]):\n",
    "                submatch = True\n",
    "                for k in range(len(lst[i])):\n",
    "                    if lst[i][k] not in lst[j][k] and lst[j][k] not in lst[i][k]:\n",
    "                        # print('wrong submatch:', lst[i][k], lst[j][k])\n",
    "                        submatch = False\n",
    "                        break\n",
    "                    try:\n",
    "                        if submatch and int(orders[i][k]) != int(orders[j][k]):\n",
    "                          submatch = False\n",
    "                    except:\n",
    "                        submatch = False\n",
    "                    # if submatch and orders[i][k] != orders[j][k]:\n",
    "                    #     submatch = False\n",
    "                        # print(f'{lst[i]} and {lst[j]} have a submatch but orders are wrong: {orders[i]}, {orders[j]}.')\n",
    "\n",
    "                if submatch:\n",
    "                    count += 1\n",
    "                    subset.append(j)\n",
    "                    # print(f'{lst[i]} and {lst[j]} have a submatch.')\n",
    "        # print('old', max_count, 'new', count)\n",
    "        if max_count < count:\n",
    "          max_count = count\n",
    "          longest_subset = subset\n",
    "        # max_count = max(max_count, count)\n",
    "        # if \n",
    "    return max_count, longest_subset\n",
    "\n",
    "matches_3 = 0 \n",
    "matches_4 = 0\n",
    "total_3 = 0\n",
    "total_4 = 0\n",
    "clean_hits = []\n",
    "clean_hits3 = []\n",
    "match3_index = {}\n",
    "# loop over the groups\n",
    "for hit_id, indices in df_filtered.groups.items():\n",
    "    # extract the rows for the current group\n",
    "    group_df = df.loc[indices, :]\n",
    "    total_orders = []\n",
    "    total_objects = []\n",
    "    if len(indices) == 3:\n",
    "        total_3 += 1\n",
    "    elif len(indices) == 4:\n",
    "        total_4 += 1\n",
    "        # print(hit_id)\n",
    "\n",
    "    for i in range(len(indices)):\n",
    "      orders = []\n",
    "      objects = []\n",
    "      for j in range(1,9):\n",
    "        feature1 = 'Answer.order' + str(j)\n",
    "        feature2 = 'Answer.object' + str(j)\n",
    "        if str(group_df[feature1].iloc[i]) != 'nan':\n",
    "            orders.append(group_df[feature1].iloc[i])\n",
    "        \n",
    "        if str(group_df[feature2].iloc[i]) != 'nan':\n",
    "            object_ = str(group_df[feature2].iloc[i])\n",
    "            object_ = object_.lower()\n",
    "            object_ = object_.translate(str.maketrans('', '', string.punctuation))\n",
    "            objects.append(object_)\n",
    "      total_orders.append(orders)\n",
    "      total_objects.append(objects)\n",
    "\n",
    "    num_matches, subset = check_submatches(total_objects, total_orders)\n",
    "    # if hit_id == '3ZXV7Q5FJB7GMRDOQMQTNZ7MQMRCFA':\n",
    "    #   print(\"how do i have\", num_matches)\n",
    "    #   print(total_objects)\n",
    "    #   print(total_orders)\n",
    "    #   break\n",
    "    if num_matches == 4:\n",
    "        clean_hits.append(hit_id)\n",
    "        matches_4 +=1\n",
    "    elif num_matches == 3 and len(indices) == 4:\n",
    "        clean_hits3.append(hit_id)\n",
    "        match3_index[hit_id] = subset\n",
    "        matches_3 += 1\n",
    "    # print(total_objects)\n",
    "    # print(total_orders)\n",
    "    # print('-'*10)"
   ]
  }
 ],
 "metadata": {
  "kernelspec": {
   "display_name": "cot3d",
   "language": "python",
   "name": "python3"
  },
  "language_info": {
   "codemirror_mode": {
    "name": "ipython",
    "version": 3
   },
   "file_extension": ".py",
   "mimetype": "text/x-python",
   "name": "python",
   "nbconvert_exporter": "python",
   "pygments_lexer": "ipython3",
   "version": "3.10.10"
  },
  "orig_nbformat": 4
 },
 "nbformat": 4,
 "nbformat_minor": 2
}
