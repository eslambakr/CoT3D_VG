{
 "cells": [
  {
   "cell_type": "code",
   "execution_count": 1,
   "metadata": {},
   "outputs": [],
   "source": [
    "from gtlabel_dataset import GTLabelDataset\n",
    "\n",
    "scan_dir = \"/home/abdelrem/3d_codes/vil3d_preprocessed_data/scan_data\"\n",
    "anno_file = \"/home/abdelrem/3d_codes/vil3d_preprocessed_data/annotations/bert_tokenized/nr3d.jsonl\"\n",
    "category_file =  \"/home/abdelrem/3d_codes/vil3d_preprocessed_data/annotations/meta_data/scannetv2_raw_categories.json\"\n",
    "cat2vec_file = \"/home/abdelrem/3d_codes/vil3d_preprocessed_data/annotations/meta_data/cat2glove42b.json\"\n",
    "\n",
    "trn_scan_split = \"/home/abdelrem/3d_codes/vil3d_preprocessed_data/annotations/splits/scannetv2_train.txt\"\n",
    "val_scan_split = \"/home/abdelrem/3d_codes/vil3d_preprocessed_data/annotations/splits/scannetv2_val.txt\"\n",
    "tst_scan_split = \"/home/abdelrem/3d_codes/vil3d_preprocessed_data/annotations/splits/scannetv2_test.txt\"\n",
    "\n",
    "max_txt_len = 50\n",
    "max_obj_len = 80\n",
    "keep_background = False\n",
    "random_rotate = True"
   ]
  },
  {
   "cell_type": "code",
   "execution_count": 2,
   "metadata": {},
   "outputs": [],
   "source": [
    "import csv\n",
    "import pandas as pd\n",
    "import numpy as np\n",
    "\n",
    "\n",
    "nr3d_csv_pth = \"/home/abdelrem/3d_codes/CoT3D_VG/extract_anchors/nr3d_cot_ref_paraphrases_num_anchors.csv\"\n",
    "nr3d_cot_dict = pd.read_csv(nr3d_csv_pth).to_dict()"
   ]
  },
  {
   "cell_type": "code",
   "execution_count": 3,
   "metadata": {},
   "outputs": [
    {
     "data": {
      "text/plain": [
       "dict_keys(['Unnamed: 0', 'Unnamed: 0.1', 'assignmentid', 'stimulus_id', 'utterance', 'correct_guess', 'speaker_id', 'listener_id', 'scan_id', 'instance_type', 'target_id', 'tokens', 'dataset', 'mentions_target_class', 'uses_object_lang', 'uses_spatial_lang', 'uses_color_lang', 'uses_shape_lang', 'path', 'anchor_ids', 'paraphrases', 'num_anchors'])"
      ]
     },
     "execution_count": 3,
     "metadata": {},
     "output_type": "execute_result"
    }
   ],
   "source": [
    "nr3d_cot_dict.keys()"
   ]
  },
  {
   "cell_type": "code",
   "execution_count": 4,
   "metadata": {},
   "outputs": [],
   "source": [
    "unique_rel_df = pd.read_csv(\"/home/abdelrem/3d_codes/CoT3D_VG/extract_anchors/nr3d_cot_unique_rel_anchor_data.csv\").to_dict()"
   ]
  },
  {
   "cell_type": "code",
   "execution_count": 5,
   "metadata": {},
   "outputs": [
    {
     "data": {
      "text/plain": [
       "dict_keys(['Unnamed: 0', 'Unnamed: 0.1', 'Unnamed: 0.1.1', 'assignmentid', 'stimulus_id', 'utterance', 'correct_guess', 'speaker_id', 'listener_id', 'scan_id', 'instance_type', 'target_id', 'tokens', 'dataset', 'mentions_target_class', 'uses_object_lang', 'uses_spatial_lang', 'uses_color_lang', 'uses_shape_lang', 'path', 'anchor_ids', 'paraphrases', 'num_anchors', 'object', 'relation', 'subject'])"
      ]
     },
     "execution_count": 5,
     "metadata": {},
     "output_type": "execute_result"
    }
   ],
   "source": [
    "unique_rel_df.keys()"
   ]
  },
  {
   "cell_type": "code",
   "execution_count": 13,
   "metadata": {},
   "outputs": [
    {
     "name": "stdout",
     "output_type": "stream",
     "text": [
      "10934\n"
     ]
    }
   ],
   "source": [
    "stimulus_unique_rel_id_list = list(unique_rel_df['stimulus_id'].values())\n",
    "print(stimulus_unique_rel_id_list.index(nr3d_cot_dict['stimulus_id'][1]))"
   ]
  },
  {
   "cell_type": "code",
   "execution_count": 12,
   "metadata": {},
   "outputs": [
    {
     "data": {
      "text/plain": [
       "'scene0586_00-trash_can-3-16-8-20'"
      ]
     },
     "execution_count": 12,
     "metadata": {},
     "output_type": "execute_result"
    }
   ],
   "source": [
    "stimulus_unique_rel_id_list[0]"
   ]
  },
  {
   "cell_type": "code",
   "execution_count": 4,
   "metadata": {},
   "outputs": [],
   "source": [
    "trn_dataset = GTLabelDataset(\n",
    "        trn_scan_split, anno_file, \n",
    "        scan_dir, category_file,\n",
    "        cat2vec_file=cat2vec_file, \n",
    "        max_txt_len=max_txt_len, max_obj_len=max_obj_len,\n",
    "        keep_background=keep_background,\n",
    "        random_rotate=random_rotate,\n",
    "        gt_scan_dir=None,\n",
    "        iou_replace_gt=0,\n",
    "        anchors_mode=\"cot\", max_anchors=7, predict_lang_anchors=True, target_aug_percentage=True, is_train=True,\n",
    "        distractor_aux_loss_flag=True, \n",
    "        data_csv_pth=\"/home/abdelrem/3d_codes/CoT3D_VG/extract_anchors/nr3d_cot_ref_paraphrases_num_anchors.csv\",\n",
    "        train_data_percent=1.0, is_nr3d=True\n",
    "    )"
   ]
  },
  {
   "cell_type": "code",
   "execution_count": 5,
   "metadata": {},
   "outputs": [
    {
     "data": {
      "text/plain": [
       "28716"
      ]
     },
     "execution_count": 5,
     "metadata": {},
     "output_type": "execute_result"
    }
   ],
   "source": [
    "trn_dataset.__len__()"
   ]
  },
  {
   "cell_type": "code",
   "execution_count": 4,
   "metadata": {},
   "outputs": [
    {
     "data": {
      "text/plain": [
       "dict_keys(['item_id', 'stimulus_id', 'scan_id', 'instance_type', 'target_id', 'utterance', 'tokens', 'enc_tokens', 'correct_guess', 'uses_object_lang', 'uses_spatial_lang', 'uses_color_lang', 'uses_shape_lang', 'path', 'anchor_ids', 'num_anchors'])"
      ]
     },
     "execution_count": 4,
     "metadata": {},
     "output_type": "execute_result"
    }
   ],
   "source": [
    "trn_dataset.data[0].keys()"
   ]
  },
  {
   "cell_type": "code",
   "execution_count": 5,
   "metadata": {},
   "outputs": [
    {
     "name": "stdout",
     "output_type": "stream",
     "text": [
      "scene0413_00-towel-4-32-28-29-31\n",
      "['wall', 'toilet', 'towel']\n",
      "[26, 27]\n",
      "2\n"
     ]
    }
   ],
   "source": [
    "i = 15\n",
    "print(trn_dataset.data[i]['stimulus_id'])\n",
    "print(trn_dataset.data[i]['path'])\n",
    "print(trn_dataset.data[i]['anchor_ids'])\n",
    "print(trn_dataset.data[i]['num_anchors'])"
   ]
  },
  {
   "cell_type": "code",
   "execution_count": 27,
   "metadata": {},
   "outputs": [
    {
     "name": "stdout",
     "output_type": "stream",
     "text": [
      "index =  2\n"
     ]
    }
   ],
   "source": [
    "stimulus_id_list = list(nr3d_cot_dict['stimulus_id'].values())\n",
    "index = stimulus_id_list.index(trn_dataset.data[2]['stimulus_id'])\n",
    "print(\"index = \", index)"
   ]
  },
  {
   "cell_type": "code",
   "execution_count": 6,
   "metadata": {},
   "outputs": [
    {
     "name": "stdout",
     "output_type": "stream",
     "text": [
      "---------- path =  ['bed', 'lamp']\n",
      "----------- path =  2\n",
      "----------- org_relation =  by\n"
     ]
    }
   ],
   "source": [
    "dummy_sample = trn_dataset.__getitem__(idx=80)\n",
    "#print(dummy_sample)"
   ]
  },
  {
   "cell_type": "code",
   "execution_count": 8,
   "metadata": {},
   "outputs": [
    {
     "name": "stdout",
     "output_type": "stream",
     "text": [
      "obj_fts =  24\n",
      "obj_lens =  24\n",
      "obj_classes =  24\n",
      "obj_classes =  tensor([ 17,  24,   4,  40,  48,  46,   9,   9,   4,  48,  23,  44,  44,  23,\n",
      "        184, 208,   6,   6,   1,   9,   1,   9,   4, 607])\n",
      "tgt_obj_idxs =  13\n",
      "tgt_obj_classes =  23\n",
      "obj_ids =  ['0', '1', '2', '4', '5', '6', '7', '8', '12', '15', '16', '17', '18', '19', '20', '21', '23', '24', '25', '26', '27', '28', '30', '-1']\n",
      "anchor_objs_idxs =  tensor([ 1, 23, 23, 23, 23, 23, 23])\n",
      "anchor_objs_idxs =  7\n",
      "txt_ids =  tensor([  101,  1005,  1996, 10437,  2008,  2003,  2000,  1996,  2187,  2065,\n",
      "         2017,  2024,  4688,  2006,  1996,  2793,  1012,  1005,   102])\n"
     ]
    }
   ],
   "source": [
    "print(\"obj_fts = \", len(dummy_sample['obj_fts']))\n",
    "print(\"obj_lens = \", dummy_sample['obj_lens'])\n",
    "print(\"obj_classes = \", len(dummy_sample['obj_classes']))\n",
    "print(\"obj_classes = \", dummy_sample['obj_classes'])\n",
    "print(\"tgt_obj_idxs = \", dummy_sample['tgt_obj_idxs'])\n",
    "print(\"tgt_obj_classes = \", dummy_sample['tgt_obj_classes'])\n",
    "print(\"obj_ids = \", dummy_sample['obj_ids'])\n",
    "print(\"anchor_objs_idxs = \", dummy_sample['anchor_objs_idxs'])\n",
    "print(\"anchor_objs_idxs = \", len(dummy_sample['anchor_objs_idxs']))\n",
    "print(\"txt_ids = \", dummy_sample['txt_ids'])"
   ]
  },
  {
   "cell_type": "code",
   "execution_count": 13,
   "metadata": {},
   "outputs": [
    {
     "name": "stdout",
     "output_type": "stream",
     "text": [
      "lamp\n",
      "bed\n"
     ]
    }
   ],
   "source": [
    "print(trn_dataset.int2cat[dummy_sample['tgt_obj_classes']])\n",
    "print(trn_dataset.int2cat[dummy_sample['anchor_objs_classes'][0]])"
   ]
  },
  {
   "cell_type": "code",
   "execution_count": 8,
   "metadata": {},
   "outputs": [
    {
     "data": {
      "text/plain": [
       "[6, 607, 607, 607, 607, 607, 607]"
      ]
     },
     "execution_count": 8,
     "metadata": {},
     "output_type": "execute_result"
    }
   ],
   "source": [
    "dummy_sample['anchor_objs_classes']"
   ]
  },
  {
   "cell_type": "code",
   "execution_count": 11,
   "metadata": {},
   "outputs": [
    {
     "name": "stdout",
     "output_type": "stream",
     "text": [
      "['the', 'towel', 'hanging', 'above', 'the', 'tub', 'and', 'on', 'the', 'left', 'hand', 'side']\n",
      "[101, 1996, 10257, 5689, 2682, 1996, 14366, 1998, 2006, 1996, 2187, 2192, 2217, 102]\n"
     ]
    }
   ],
   "source": [
    "print(trn_dataset.data[50]['tokens'])\n",
    "print(trn_dataset.data[50]['enc_tokens'])"
   ]
  },
  {
   "cell_type": "code",
   "execution_count": null,
   "metadata": {},
   "outputs": [],
   "source": [
    "for i in range(len(trn_dataset.data)):\n",
    "    trn_dataset.data[i]"
   ]
  }
 ],
 "metadata": {
  "kernelspec": {
   "display_name": "artemis",
   "language": "python",
   "name": "python3"
  },
  "language_info": {
   "codemirror_mode": {
    "name": "ipython",
    "version": 3
   },
   "file_extension": ".py",
   "mimetype": "text/x-python",
   "name": "python",
   "nbconvert_exporter": "python",
   "pygments_lexer": "ipython3",
   "version": "3.7.15"
  },
  "orig_nbformat": 4
 },
 "nbformat": 4,
 "nbformat_minor": 2
}
